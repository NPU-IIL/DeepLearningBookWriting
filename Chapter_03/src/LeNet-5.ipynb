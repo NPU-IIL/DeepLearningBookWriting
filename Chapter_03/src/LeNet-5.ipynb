{
 "cells": [
  {
   "cell_type": "code",
   "execution_count": 214,
   "metadata": {
    "collapsed": true,
    "pycharm": {
     "name": "#%%\n"
    },
    "ExecuteTime": {
     "end_time": "2023-05-23T14:48:56.155480700Z",
     "start_time": "2023-05-23T14:48:56.129265700Z"
    }
   },
   "outputs": [],
   "source": [
    "import numpy as np\n",
    "import matplotlib.pyplot as plt"
   ]
  },
  {
   "cell_type": "code",
   "execution_count": 215,
   "outputs": [],
   "source": [
    "def relu(x):\n",
    "    return np.maximum(0, x)\n",
    "\n",
    "\n",
    "def softmax(x):\n",
    "    e_x = np.exp(x - np.max(x, axis=1, keepdims=True))\n",
    "    return e_x / np.sum(e_x, axis=1, keepdims=True)\n",
    "\n",
    "\n",
    "def relu_backward(grad_output, input):\n",
    "    return grad_output * (input > 0)\n",
    "\n",
    "\n",
    "def rot180(kernel):\n",
    "    return np.rot90(kernel, 2, axes=(2, 3))\n",
    "\n",
    "\n",
    "def cross_entropy_loss(y, t):\n",
    "    # 批量平均损失\n",
    "    return -np.sum(t * np.log(y + 1e-7)) / y.shape[0]\n",
    "\n",
    "\n",
    "def softmax_backward(y, t):\n",
    "    return (y - t) / y.shape[0]"
   ],
   "metadata": {
    "collapsed": false,
    "pycharm": {
     "name": "#%%\n"
    },
    "ExecuteTime": {
     "end_time": "2023-05-23T14:48:56.282351900Z",
     "start_time": "2023-05-23T14:48:56.165053600Z"
    }
   }
  },
  {
   "cell_type": "code",
   "execution_count": null,
   "outputs": [],
   "source": [
    "# conv2d\n",
    "def conv2d(input, kernel, *, padding=0, stride=1):\n",
    "    batch_size, num_channels, in_height, in_width = input.shape\n",
    "    out_channels, _, kernel_height, kernel_width = kernel.shape\n",
    "\n",
    "    out_height = int((in_height - kernel_height + 2 * padding) / stride) + 1\n",
    "    out_width = int((in_width - kernel_width + 2 * padding) / stride) + 1\n",
    "\n",
    "    output = np.zeros((batch_size, out_channels, out_height, out_width))\n",
    "\n",
    "    padded_input = np.pad(input, ((0, 0), (0, 0), (padding, padding), (padding, padding)), 'constant')\n",
    "\n",
    "    for b in range(batch_size):\n",
    "        for c in range(out_channels):\n",
    "            for h_out in range(out_height):\n",
    "                for w_out in range(out_width):\n",
    "                    h_start = h_out * stride\n",
    "                    h_end = h_start + kernel_height\n",
    "                    w_start = w_out * stride\n",
    "                    w_end = w_start + kernel_width\n",
    "\n",
    "                    receptive_field = padded_input[b, :, h_start:h_end, w_start:w_end]\n",
    "                    output[b, c, h_out, w_out] = np.sum(receptive_field * kernel[c])\n",
    "\n",
    "    return output"
   ],
   "metadata": {
    "collapsed": false
   }
  },
  {
   "cell_type": "code",
   "execution_count": null,
   "outputs": [],
   "source": [
    "# full convolution\n",
    "def full_conv(input, kernel):\n",
    "    batch_size, num_channels, in_height, in_width = input.shape\n",
    "    out_channels, _, kernel_height, kernel_width = kernel.shape\n",
    "\n",
    "    out_height = in_height + kernel_height - 1\n",
    "    out_width = in_width + kernel_width - 1\n",
    "\n",
    "    output = np.zeros((batch_size, out_channels, out_height, out_width))\n",
    "\n",
    "    for b in range(batch_size):\n",
    "        for c in range(out_channels):\n",
    "            for h_out in range(out_height):\n",
    "                for w_out in range(out_width):\n",
    "                    # h_start: (in_height - 1) -> (in_height - out_height)\n",
    "                    h_start = in_height - h_out - 1\n",
    "                    h_end = h_start + kernel_height\n",
    "                    # w_start: (in_width - 1) -> (in_width - out_width)\n",
    "                    w_start = in_width - w_out - 1\n",
    "                    w_end = w_start + kernel_width\n",
    "\n",
    "                    top_padding = None\n",
    "                    down_padding = None\n",
    "                    left_padding = None\n",
    "                    right_padding = None\n",
    "\n",
    "                    if h_start < 0:\n",
    "                        top_padding = -h_start\n",
    "                        h_start = 0\n",
    "                    if h_end > in_height:\n",
    "                        down_padding = h_end - in_height\n",
    "                        h_end = in_height\n",
    "                    if w_start < 0:\n",
    "                        left_padding = -w_start\n",
    "                        w_start = 0\n",
    "                    if w_end > in_width:\n",
    "                        right_padding = w_end - in_width\n",
    "                        w_end = in_width\n",
    "\n",
    "                    receptive_field = input[b, :, h_start:h_end, w_start:w_end]\n",
    "                    # pad receptive field to kernel size: [1, IC, KS, KS]\n",
    "                    if top_padding is not None:\n",
    "                        receptive_field = np.pad(receptive_field, ((0, 0), (top_padding, 0), (0, 0)), 'constant')\n",
    "                    if down_padding is not None:\n",
    "                        receptive_field = np.pad(receptive_field, ((0, 0), (0, down_padding), (0, 0)), 'constant')\n",
    "                    if left_padding is not None:\n",
    "                        receptive_field = np.pad(receptive_field, ((0, 0), (0, 0), (left_padding, 0)), 'constant')\n",
    "                    if right_padding is not None:\n",
    "                        receptive_field = np.pad(receptive_field, ((0, 0), (0, 0), (0, right_padding)), 'constant')\n",
    "\n",
    "                    output[b, c, h_out, w_out] = np.sum(receptive_field * kernel[c])\n",
    "\n",
    "    return output"
   ],
   "metadata": {
    "collapsed": false
   }
  },
  {
   "cell_type": "code",
   "execution_count": 220,
   "outputs": [],
   "source": [
    "# lenet-5: convolutionLayer\n",
    "class ConvLayer:\n",
    "    def __init__(self, in_channels, out_channels, kernel_size, stride=1, padding=0):\n",
    "        self.in_channels = in_channels\n",
    "        self.out_channels = out_channels\n",
    "        self.kernel_size = kernel_size\n",
    "        self.stride = stride\n",
    "        self.padding = padding\n",
    "\n",
    "        # He initialization\n",
    "        self.weights = np.random.randn(out_channels, in_channels, kernel_size, kernel_size) * np.sqrt(\n",
    "            2.0 / (in_channels * kernel_size * kernel_size))\n",
    "        self.bias = np.zeros((out_channels, 1))\n",
    "\n",
    "        self.input = None\n",
    "        self.grad_weights = None\n",
    "        self.grad_bias = None\n",
    "        self.conv_output = None\n",
    "\n",
    "    def forward(self, input):\n",
    "        self.input = input\n",
    "        self.conv_output = conv2d(input, self.weights, stride=self.stride, padding=self.padding)\n",
    "        # conv_output: (B, OC, OH, OW)\n",
    "        # bias: (OC, 1) -> (1, OC, 1, 1)\n",
    "        output = relu(self.conv_output + self.bias.reshape(1, -1, 1, 1))\n",
    "        return output\n",
    "\n",
    "    def backward(self, grad_output):\n",
    "        # batch_size, num_channels, in_height, in_width = grad_output.shape\n",
    "\n",
    "        grad_output = relu_backward(grad_output, self.conv_output)\n",
    "\n",
    "        # rotated_kernel: [OC, IC, KS, KS] -> [IC, OC, KS, KS]\n",
    "        # grad_output: [B, OC, OH, OW]\n",
    "        # grad_input: [IC, B, H, W] -> [B, IC, H, W]\n",
    "        rotated_kernel = rot180(self.weights)\n",
    "        rotated_kernel = np.transpose(rotated_kernel, (1, 0, 2, 3))\n",
    "        grad_input = full_conv(rotated_kernel, grad_output)\n",
    "        grad_input = np.transpose(grad_input, (1, 0, 2, 3))\n",
    "\n",
    "        # input: [B, IC, H, W] -> [IC, B, H, W]\n",
    "        # grad_output: [B, OC, OH, OW] -> [OC, B, OH, OW]\n",
    "        # grad_weights: [IC, OC, KS, KS] -> [OC, IC, KS, KS]\n",
    "        self.grad_weights = conv2d(np.transpose(self.input, (1, 0, 2, 3)), np.transpose(grad_output, (1, 0, 2, 3)),\n",
    "                                   padding=self.padding)\n",
    "        self.grad_weights = np.transpose(self.grad_weights, (1, 0, 2, 3))\n",
    "\n",
    "        # grad_output: [B, OC, OH, OW] -> [OC, 1]\n",
    "        self.grad_bias = np.sum(grad_output, axis=(0, 2, 3)).reshape(self.out_channels, 1)\n",
    "        return grad_input\n"
   ],
   "metadata": {
    "collapsed": false,
    "pycharm": {
     "name": "#%%\n"
    },
    "ExecuteTime": {
     "end_time": "2023-05-23T14:48:56.392161800Z",
     "start_time": "2023-05-23T14:48:56.317155200Z"
    }
   }
  },
  {
   "cell_type": "code",
   "execution_count": null,
   "outputs": [],
   "source": [
    "class AvgPool:\n",
    "    def __init__(self, kernel_size, stride=1):\n",
    "        self.kernel_size = kernel_size\n",
    "        self.stride = stride\n",
    "\n",
    "    def forward(self, x):\n",
    "        batch_size, num_channels, in_height, in_width = x.shape\n",
    "        out_height = int((in_height - self.kernel_size) / self.stride) + 1\n",
    "        out_width = int((in_width - self.kernel_size) / self.stride) + 1\n",
    "\n",
    "        output = np.zeros((batch_size, num_channels, out_height, out_width))\n",
    "\n",
    "        for b in range(batch_size):\n",
    "            for c in range(num_channels):\n",
    "                for h_out in range(out_height):\n",
    "                    for w_out in range(out_width):\n",
    "                        h_start = h_out * self.stride\n",
    "                        h_end = h_start + self.kernel_size\n",
    "                        w_start = w_out * self.stride\n",
    "                        w_end = w_start + self.kernel_size\n",
    "\n",
    "                        receptive_field = x[b, c, h_start:h_end, w_start:w_end]\n",
    "                        output[b, c, h_out, w_out] = np.mean(receptive_field)\n",
    "\n",
    "        return output\n",
    "\n",
    "    # average pooling layer backward\n",
    "    def backward(self, grad_output):\n",
    "        batch_size, num_channels, out_height, out_width = grad_output.shape\n",
    "        in_height = int((out_height - 1) * self.stride + self.kernel_size)\n",
    "        in_width = int((out_width - 1) * self.stride + self.kernel_size)\n",
    "\n",
    "        grad_input = np.zeros((batch_size, num_channels, in_height, in_width))\n",
    "\n",
    "        for b in range(batch_size):\n",
    "            for c in range(num_channels):\n",
    "                for h_out in range(out_height):\n",
    "                    for w_out in range(out_width):\n",
    "                        h_start = h_out * self.stride\n",
    "                        h_end = h_start + self.kernel_size\n",
    "                        w_start = w_out * self.stride\n",
    "                        w_end = w_start + self.kernel_size\n",
    "\n",
    "                        grad_input[b, c, h_start:h_end, w_start:w_end] = grad_output[b, c, h_out, w_out] / (\n",
    "                                self.kernel_size * self.kernel_size)\n",
    "\n",
    "        return grad_input"
   ],
   "metadata": {
    "collapsed": false,
    "pycharm": {
     "name": "#%%\n"
    }
   }
  },
  {
   "cell_type": "code",
   "execution_count": null,
   "outputs": [],
   "source": [
    "class Flatten:\n",
    "    def __init__(self):\n",
    "        self.input = None\n",
    "\n",
    "    def forward(self, x):\n",
    "        self.input = x\n",
    "        batch_size = x.shape[0]\n",
    "        return x.reshape(batch_size, -1)\n",
    "\n",
    "    def backward(self, grad_output):\n",
    "        return grad_output.reshape(self.input.shape)"
   ],
   "metadata": {
    "collapsed": false,
    "pycharm": {
     "name": "#%%\n"
    }
   }
  },
  {
   "cell_type": "code",
   "execution_count": null,
   "outputs": [],
   "source": [
    "class Linear:\n",
    "    def __init__(self, in_features, out_features):\n",
    "        self.in_features = in_features\n",
    "        self.out_features = out_features\n",
    "\n",
    "        self.weights = np.random.randn(in_features, out_features) * np.sqrt(2.0 / (in_features + out_features))\n",
    "        self.bias = np.zeros((1, out_features))\n",
    "\n",
    "        self.input = None\n",
    "        self.grad_weights = None\n",
    "        self.grad_bias = None\n",
    "        self.output = None\n",
    "\n",
    "    def forward(self, input):\n",
    "        self.input = input\n",
    "        self.output = np.dot(input, self.weights) + self.bias\n",
    "        return self.output\n",
    "\n",
    "    def backward(self, grad_output):\n",
    "        # grad_weights = input.T * grad_output\n",
    "        # input: [B, I] -> [I, B]\n",
    "        # grad_output: [B, O]\n",
    "        self.grad_weights = np.dot(self.input.T, grad_output)\n",
    "\n",
    "        # grad_bias\n",
    "        self.grad_bias = np.sum(grad_output, axis=0, keepdims=True)\n",
    "\n",
    "        # grad_input = grad_output * weights.T\n",
    "        # grad_output: [B, O]\n",
    "        # weights: [I, O] -> [O, I]\n",
    "        # grad_input: [B, I]\n",
    "        return np.dot(grad_output, self.weights.T)"
   ],
   "metadata": {
    "collapsed": false,
    "pycharm": {
     "name": "#%%\n"
    }
   }
  },
  {
   "cell_type": "code",
   "execution_count": 225,
   "outputs": [],
   "source": [
    "class LeNet:\n",
    "    def __init__(self):\n",
    "        self.conv1 = ConvLayer(in_channels=1, out_channels=6, kernel_size=5)\n",
    "        self.avgpool1 = AvgPool(kernel_size=2, stride=2)\n",
    "        self.conv2 = ConvLayer(in_channels=6, out_channels=16, kernel_size=5)\n",
    "        self.avgpool2 = AvgPool(kernel_size=2, stride=2)\n",
    "        self.flatten = Flatten()\n",
    "        self.linear1 = Linear(16 * 5 * 5, 120)\n",
    "        self.linear2 = Linear(120, 84)\n",
    "        self.linear3 = Linear(84, 10)\n",
    "\n",
    "        self.loss = []\n",
    "\n",
    "    def forward(self, x):\n",
    "        x = self.conv1.forward(x)\n",
    "        x = self.avgpool1.forward(x)\n",
    "        x = self.conv2.forward(x)\n",
    "        x = self.avgpool2.forward(x)\n",
    "        x = self.flatten.forward(x)\n",
    "        x = self.linear1.forward(x)\n",
    "        x = relu(x)\n",
    "        x = self.linear2.forward(x)\n",
    "        x = relu(x)\n",
    "        x = self.linear3.forward(x)\n",
    "        x = softmax(x)\n",
    "        return x\n",
    "\n",
    "    def backward(self, grad_output):\n",
    "        # softmax的反向传播直接通过y-t传入即可，必须使用交叉熵损失函数\n",
    "        grad_output = self.linear3.backward(grad_output)\n",
    "        grad_output = relu_backward(grad_output, self.linear2.output)\n",
    "        grad_output = self.linear2.backward(grad_output)\n",
    "        grad_output = relu_backward(grad_output, self.linear1.output)\n",
    "        grad_output = self.linear1.backward(grad_output)\n",
    "        grad_output = self.flatten.backward(grad_output)\n",
    "        grad_output = self.avgpool2.backward(grad_output)\n",
    "        grad_output = self.conv2.backward(grad_output)\n",
    "        grad_output = self.avgpool1.backward(grad_output)\n",
    "        grad_output = self.conv1.backward(grad_output)\n",
    "        return grad_output"
   ],
   "metadata": {
    "collapsed": false,
    "pycharm": {
     "name": "#%%\n"
    },
    "ExecuteTime": {
     "end_time": "2023-05-23T14:48:56.477509500Z",
     "start_time": "2023-05-23T14:48:56.407943800Z"
    }
   }
  },
  {
   "cell_type": "code",
   "execution_count": null,
   "outputs": [],
   "source": [
    "def load_mnist():\n",
    "    # 加载训练数据\n",
    "    with open('../MNIST/train-images.idx3-ubyte', 'rb') as f:\n",
    "        train_images = np.frombuffer(f.read(), np.uint8, offset=16).reshape((-1, 1, 28, 28))\n",
    "\n",
    "    with open('../MNIST/train-labels.idx1-ubyte', 'rb') as f:\n",
    "        train_labels = np.frombuffer(f.read(), np.uint8, offset=8)\n",
    "\n",
    "    # 加载测试数据\n",
    "    with open('../MNIST/t10k-images.idx3-ubyte', 'rb') as f:\n",
    "        test_images = np.frombuffer(f.read(), np.uint8, offset=16).reshape((-1, 1, 28, 28))\n",
    "\n",
    "    with open('../MNIST/t10k-labels.idx1-ubyte', 'rb') as f:\n",
    "        test_labels = np.frombuffer(f.read(), np.uint8, offset=8)\n",
    "\n",
    "    # 添加填充\n",
    "    train_images = np.pad(train_images, ((0, 0), (0, 0), (2, 2), (2, 2)), mode='constant')\n",
    "    test_images = np.pad(test_images, ((0, 0), (0, 0), (2, 2), (2, 2)), mode='constant')\n",
    "\n",
    "    # labels转换为one-hot\n",
    "    train_labels = np.eye(10)[train_labels]\n",
    "    test_labels = np.eye(10)[test_labels]\n",
    "\n",
    "    return (train_images, train_labels), (test_images, test_labels)"
   ],
   "metadata": {
    "collapsed": false,
    "pycharm": {
     "name": "#%%\n"
    }
   }
  },
  {
   "cell_type": "code",
   "execution_count": null,
   "outputs": [],
   "source": [],
   "metadata": {
    "collapsed": false
   }
  },
  {
   "cell_type": "code",
   "execution_count": 228,
   "outputs": [],
   "source": [],
   "metadata": {
    "collapsed": false,
    "ExecuteTime": {
     "end_time": "2023-05-23T14:48:56.614790600Z",
     "start_time": "2023-05-23T14:48:56.571208300Z"
    }
   }
  },
  {
   "cell_type": "code",
   "execution_count": 229,
   "outputs": [],
   "source": [
    "def train(model, train_images, train_labels, epochs, learning_rate, batch_size):\n",
    "    for epoch in range(epochs):\n",
    "        correct = 0\n",
    "        loss_list = []\n",
    "        batch_num = 0\n",
    "        for i in range(0, len(train_images), batch_size):\n",
    "            batch_num += 1\n",
    "            batch_images = train_images[i:i + batch_size]\n",
    "            batch_labels = train_labels[i:i + batch_size]\n",
    "\n",
    "            # forward\n",
    "            output = model.forward(batch_images)\n",
    "            loss = cross_entropy_loss(output, batch_labels)\n",
    "            loss_list.append(loss)\n",
    "\n",
    "            # backward\n",
    "            grad_output = softmax_backward(output, batch_labels)\n",
    "            model.backward(grad_output)\n",
    "\n",
    "            # update\n",
    "            for layer in [model.conv1, model.conv2, model.linear1, model.linear2, model.linear3]:\n",
    "                layer.weights -= learning_rate * layer.grad_weights\n",
    "                layer.bias -= learning_rate * layer.grad_bias\n",
    "\n",
    "            # calculate accuracy\n",
    "            pred = np.argmax(output, axis=1)\n",
    "            correct += np.sum(pred == np.argmax(batch_labels, axis=1))\n",
    "            print(f'iter {i / batch_size}, loss: {loss}')\n",
    "        model.loss.append(loss_list)\n",
    "        avg_loss = np.mean(np.array(loss_list))\n",
    "        print('Epoch %d/%d, avg_loss: %.3f, train accuracy: %.3f' % (\n",
    "            epoch + 1, epochs, avg_loss, correct / len(train_images)))\n"
   ],
   "metadata": {
    "collapsed": false,
    "pycharm": {
     "name": "#%%\n"
    },
    "ExecuteTime": {
     "end_time": "2023-05-23T14:48:56.614790600Z",
     "start_time": "2023-05-23T14:48:56.591299500Z"
    }
   }
  },
  {
   "cell_type": "code",
   "execution_count": 237,
   "outputs": [],
   "source": [
    "def test(model, test_images, test_labels):\n",
    "    correct = 0\n",
    "    for image, label in zip(test_images, test_labels):\n",
    "        image = image.reshape(1, 1, 32, 32)\n",
    "        output = model.forward(image)\n",
    "        if np.argmax(output) == np.argmax(label):\n",
    "            correct += 1\n",
    "    print('Test accuracy: %.3f' % (correct / len(test_images)))"
   ],
   "metadata": {
    "collapsed": false,
    "ExecuteTime": {
     "end_time": "2023-05-24T00:33:45.061724600Z",
     "start_time": "2023-05-24T00:33:45.051486800Z"
    }
   }
  },
  {
   "cell_type": "code",
   "execution_count": null,
   "outputs": [],
   "source": [
    "# hyperparameters setting\n",
    "batch_size = 128\n",
    "learning_rate = 0.01"
   ],
   "metadata": {
    "collapsed": false,
    "pycharm": {
     "name": "#%%\n"
    }
   }
  },
  {
   "cell_type": "code",
   "execution_count": null,
   "outputs": [],
   "source": [
    "(train_images, train_labels), (test_images, test_labels) = load_mnist()\n",
    "lenet = LeNet()"
   ],
   "metadata": {
    "collapsed": false
   }
  },
  {
   "cell_type": "code",
   "execution_count": 240,
   "outputs": [
    {
     "name": "stdout",
     "output_type": "stream",
     "text": [
      "iter 0.0, loss: 0.4331775719205947\n",
      "iter 1.0, loss: 0.4060616779460332\n",
      "iter 2.0, loss: 0.2875459723909737\n",
      "iter 3.0, loss: 0.5833389545277302\n",
      "iter 4.0, loss: 0.5104735039712496\n",
      "iter 5.0, loss: 0.43607517528313033\n",
      "iter 6.0, loss: 0.4349294694936735\n",
      "iter 7.0, loss: 0.5282820910302832\n",
      "iter 8.0, loss: 0.530271067037601\n",
      "iter 9.0, loss: 0.5797006971435016\n",
      "iter 10.0, loss: 0.755507411387034\n",
      "iter 11.0, loss: 0.4716191844677401\n",
      "iter 12.0, loss: 0.3728579239708518\n",
      "iter 13.0, loss: 0.3086162718226981\n",
      "iter 14.0, loss: 0.34347530086654177\n",
      "iter 15.0, loss: 0.4542289694548197\n",
      "iter 16.0, loss: 0.4086091830370062\n",
      "iter 17.0, loss: 0.30770063198015324\n",
      "iter 18.0, loss: 0.3862943379950754\n",
      "iter 19.0, loss: 0.4024421713213987\n",
      "iter 20.0, loss: 0.378873645412522\n",
      "iter 21.0, loss: 0.42120778816678983\n",
      "iter 22.0, loss: 0.46074579962049067\n",
      "iter 23.0, loss: 0.47898448240489316\n",
      "iter 24.0, loss: 0.32846235722088934\n",
      "iter 25.0, loss: 0.46324396936396395\n",
      "iter 26.0, loss: 0.4449147630852868\n",
      "iter 27.0, loss: 0.5002176204249111\n",
      "iter 28.0, loss: 0.445858429906383\n",
      "iter 29.0, loss: 0.5567788069961972\n",
      "iter 30.0, loss: 0.3506112810663584\n",
      "iter 31.0, loss: 0.5158159098757732\n",
      "iter 32.0, loss: 0.3514277197676688\n",
      "iter 33.0, loss: 0.48580628591268415\n",
      "iter 34.0, loss: 0.524220218190655\n",
      "iter 35.0, loss: 0.4738096328994273\n",
      "iter 36.0, loss: 0.45274865915359297\n",
      "iter 37.0, loss: 0.6196063524663431\n",
      "iter 38.0, loss: 0.5450362407540326\n",
      "iter 39.0, loss: 0.46457255160130423\n",
      "iter 40.0, loss: 0.456599297099251\n",
      "iter 41.0, loss: 0.3806687270521568\n",
      "iter 42.0, loss: 0.42351720576284213\n",
      "iter 43.0, loss: 0.4826216041200079\n",
      "iter 44.0, loss: 0.5439334343187349\n",
      "iter 45.0, loss: 0.7278959351626937\n",
      "iter 46.0, loss: 0.5778519870527976\n",
      "iter 47.0, loss: 0.3491331717541486\n",
      "iter 48.0, loss: 0.46192260900486365\n",
      "iter 49.0, loss: 0.4288342600604238\n",
      "iter 50.0, loss: 0.3996302046227385\n",
      "iter 51.0, loss: 0.35205821385948316\n",
      "iter 52.0, loss: 0.43143851984989356\n",
      "iter 53.0, loss: 0.7186579955248296\n",
      "iter 54.0, loss: 0.5330314372409863\n",
      "iter 55.0, loss: 0.3680767791642885\n",
      "iter 56.0, loss: 0.7237143589329194\n",
      "iter 57.0, loss: 0.45409939932666643\n",
      "iter 58.0, loss: 0.3049997591303737\n",
      "iter 59.0, loss: 0.39746510772896476\n",
      "iter 60.0, loss: 0.4577311662604707\n",
      "iter 61.0, loss: 0.49823465934458244\n",
      "iter 62.0, loss: 0.44962935684418887\n",
      "iter 63.0, loss: 0.40149091481851523\n",
      "iter 64.0, loss: 0.7419704349703222\n",
      "iter 65.0, loss: 0.4702726770969655\n",
      "iter 66.0, loss: 0.5203852381519564\n",
      "iter 67.0, loss: 0.6355460045069858\n",
      "iter 68.0, loss: 0.6349403881672971\n",
      "iter 69.0, loss: 0.7338367164405151\n",
      "iter 70.0, loss: 0.3211479314301916\n",
      "iter 71.0, loss: 0.4078514262533954\n",
      "iter 72.0, loss: 0.3842968140243868\n",
      "iter 73.0, loss: 0.6042056684003301\n",
      "iter 74.0, loss: 0.5408370785190575\n",
      "iter 75.0, loss: 0.27534579905966144\n",
      "iter 76.0, loss: 0.3991962310302949\n",
      "iter 77.0, loss: 0.2592037862266994\n",
      "iter 78.0, loss: 0.3463170211289587\n",
      "iter 79.0, loss: 0.5753717243516921\n",
      "iter 80.0, loss: 0.6046538720162768\n",
      "iter 81.0, loss: 0.3007770431090115\n",
      "iter 82.0, loss: 0.21550796272505374\n",
      "iter 83.0, loss: 0.31709870282755503\n",
      "iter 84.0, loss: 0.30658140243274534\n",
      "iter 85.0, loss: 0.3280944199021376\n",
      "iter 86.0, loss: 0.3420102798844834\n",
      "iter 87.0, loss: 0.48385659896498734\n",
      "iter 88.0, loss: 0.4202992599137133\n",
      "iter 89.0, loss: 0.4024234059306172\n",
      "iter 90.0, loss: 0.6480794270159105\n",
      "iter 91.0, loss: 0.5606347516489747\n",
      "iter 92.0, loss: 0.5791092501329327\n",
      "iter 93.0, loss: 0.40619615026359857\n",
      "iter 94.0, loss: 0.321878283960196\n",
      "iter 95.0, loss: 0.44245055246592413\n",
      "iter 96.0, loss: 0.5302439605101283\n",
      "iter 97.0, loss: 0.43339787869193025\n",
      "iter 98.0, loss: 0.5264827381383881\n",
      "iter 99.0, loss: 0.5154959477151654\n",
      "iter 100.0, loss: 0.23436654999592121\n",
      "iter 101.0, loss: 0.7131936718598184\n",
      "iter 102.0, loss: 0.7514084347168735\n",
      "iter 103.0, loss: 0.5284423125355406\n",
      "iter 104.0, loss: 0.3814035551636683\n",
      "iter 105.0, loss: 0.30532616108410027\n",
      "iter 106.0, loss: 0.3468229938231245\n",
      "iter 107.0, loss: 0.41053878350712697\n",
      "iter 108.0, loss: 0.48097637086969275\n",
      "iter 109.0, loss: 0.5568226380043444\n",
      "iter 110.0, loss: 0.5831956317385443\n",
      "iter 111.0, loss: 0.5273376092609187\n",
      "iter 112.0, loss: 0.6358435251522472\n",
      "iter 113.0, loss: 0.416786532512355\n",
      "iter 114.0, loss: 0.6364326994583775\n",
      "iter 115.0, loss: 0.6589632523269485\n",
      "iter 116.0, loss: 0.3249180983968448\n",
      "iter 117.0, loss: 0.3605040136431868\n",
      "iter 118.0, loss: 0.44749822112209253\n",
      "iter 119.0, loss: 0.2879894771977911\n",
      "iter 120.0, loss: 0.3954965824465044\n",
      "iter 121.0, loss: 0.5045472515247849\n",
      "iter 122.0, loss: 0.414627369538907\n",
      "iter 123.0, loss: 0.6460289318712331\n",
      "iter 124.0, loss: 0.6534019289220196\n",
      "iter 125.0, loss: 0.5752048823193388\n",
      "iter 126.0, loss: 0.347096097701153\n",
      "iter 127.0, loss: 0.3608595402666642\n",
      "iter 128.0, loss: 0.31063755234193163\n",
      "iter 129.0, loss: 0.44631088643662475\n",
      "iter 130.0, loss: 0.46624848272064745\n",
      "iter 131.0, loss: 0.5128930984593038\n",
      "iter 132.0, loss: 0.6587397007019797\n",
      "iter 133.0, loss: 0.3085753204581221\n",
      "iter 134.0, loss: 0.3862289661274094\n",
      "iter 135.0, loss: 0.23867265465783394\n",
      "iter 136.0, loss: 0.32551116552550363\n",
      "iter 137.0, loss: 0.4838997213035511\n",
      "iter 138.0, loss: 0.6018837479893224\n",
      "iter 139.0, loss: 0.7029648067874417\n",
      "iter 140.0, loss: 0.47332816359669244\n",
      "iter 141.0, loss: 0.3038956011055749\n",
      "iter 142.0, loss: 0.29046099548085025\n",
      "iter 143.0, loss: 0.5604422887916907\n",
      "iter 144.0, loss: 0.539495555958518\n",
      "iter 145.0, loss: 0.4442856351779447\n",
      "iter 146.0, loss: 0.31382012758389677\n",
      "iter 147.0, loss: 0.272197484497982\n",
      "iter 148.0, loss: 0.43447041402918274\n",
      "iter 149.0, loss: 0.49301944949635046\n",
      "iter 150.0, loss: 0.3872957939896745\n",
      "iter 151.0, loss: 0.41512056487440563\n",
      "iter 152.0, loss: 0.4127222617266146\n",
      "iter 153.0, loss: 0.23575823581547084\n",
      "iter 154.0, loss: 0.2475139165099941\n",
      "iter 155.0, loss: 0.42988808822486757\n",
      "iter 156.0, loss: 0.5633104436715637\n",
      "iter 157.0, loss: 0.48249208322843345\n",
      "iter 158.0, loss: 0.3735629536435882\n",
      "iter 159.0, loss: 0.20893074002412132\n",
      "iter 160.0, loss: 0.34185259449617167\n",
      "iter 161.0, loss: 0.33338049962385796\n",
      "iter 162.0, loss: 0.5720974119025379\n",
      "iter 163.0, loss: 0.46939927761962846\n",
      "iter 164.0, loss: 0.31045525127994045\n",
      "iter 165.0, loss: 0.40709979339789276\n",
      "iter 166.0, loss: 0.37202349745262386\n",
      "iter 167.0, loss: 0.38813722210670776\n",
      "iter 168.0, loss: 0.36727983628027405\n",
      "iter 169.0, loss: 0.31725678690460213\n",
      "iter 170.0, loss: 0.3122293277826002\n",
      "iter 171.0, loss: 0.2826180028020618\n",
      "iter 172.0, loss: 0.42141699532462673\n",
      "iter 173.0, loss: 0.4691545735331627\n",
      "iter 174.0, loss: 0.3155586081673811\n",
      "iter 175.0, loss: 0.5809107357776795\n",
      "iter 176.0, loss: 0.5818875183291938\n",
      "iter 177.0, loss: 0.47459124097411964\n",
      "iter 178.0, loss: 0.33004832386165184\n",
      "iter 179.0, loss: 0.2545733773777494\n",
      "iter 180.0, loss: 0.3690074855580009\n",
      "iter 181.0, loss: 0.30181867030667753\n",
      "iter 182.0, loss: 0.3461050396505484\n",
      "iter 183.0, loss: 0.32680815277089353\n",
      "iter 184.0, loss: 0.2978625363577183\n",
      "iter 185.0, loss: 0.49925150088058956\n",
      "iter 186.0, loss: 0.3371566694671743\n",
      "iter 187.0, loss: 0.48097631341333275\n",
      "iter 188.0, loss: 0.48712156515176974\n",
      "iter 189.0, loss: 0.5946276231521705\n",
      "iter 190.0, loss: 0.17673017681149628\n",
      "iter 191.0, loss: 0.4536084980621021\n",
      "iter 192.0, loss: 0.6871868165954987\n",
      "iter 193.0, loss: 0.6653647496117765\n",
      "iter 194.0, loss: 0.46178623990953505\n",
      "iter 195.0, loss: 0.20948339570666452\n",
      "iter 196.0, loss: 0.3458881534109526\n",
      "iter 197.0, loss: 0.42879838270424536\n",
      "iter 198.0, loss: 0.25122561000731247\n",
      "iter 199.0, loss: 0.2627636434257343\n",
      "iter 200.0, loss: 0.2038872123366547\n",
      "iter 201.0, loss: 0.42379886631931696\n",
      "iter 202.0, loss: 0.43224450059473407\n",
      "iter 203.0, loss: 0.30474236895779305\n",
      "iter 204.0, loss: 0.23889322729035173\n",
      "iter 205.0, loss: 0.30323205921610696\n"
     ]
    },
    {
     "ename": "KeyboardInterrupt",
     "evalue": "",
     "output_type": "error",
     "traceback": [
      "\u001B[1;31m---------------------------------------------------------------------------\u001B[0m",
      "\u001B[1;31mKeyboardInterrupt\u001B[0m                         Traceback (most recent call last)",
      "Cell \u001B[1;32mIn[240], line 3\u001B[0m\n\u001B[0;32m      1\u001B[0m epochs \u001B[38;5;241m=\u001B[39m \u001B[38;5;241m1\u001B[39m\n\u001B[1;32m----> 3\u001B[0m \u001B[43mtrain\u001B[49m\u001B[43m(\u001B[49m\u001B[43mlenet\u001B[49m\u001B[43m,\u001B[49m\u001B[43m \u001B[49m\u001B[43mtrain_images\u001B[49m\u001B[43m,\u001B[49m\u001B[43m \u001B[49m\u001B[43mtrain_labels\u001B[49m\u001B[43m,\u001B[49m\u001B[43m \u001B[49m\u001B[43mepochs\u001B[49m\u001B[43m,\u001B[49m\u001B[43m \u001B[49m\u001B[43mlearning_rate\u001B[49m\u001B[43m,\u001B[49m\u001B[43m \u001B[49m\u001B[43mbatch_size\u001B[49m\u001B[43m)\u001B[49m\n",
      "Cell \u001B[1;32mIn[229], line 18\u001B[0m, in \u001B[0;36mtrain\u001B[1;34m(model, train_images, train_labels, epochs, learning_rate, batch_size)\u001B[0m\n\u001B[0;32m     16\u001B[0m \u001B[38;5;66;03m# backward\u001B[39;00m\n\u001B[0;32m     17\u001B[0m grad_output \u001B[38;5;241m=\u001B[39m softmax_backward(output, batch_labels)\n\u001B[1;32m---> 18\u001B[0m \u001B[43mmodel\u001B[49m\u001B[38;5;241;43m.\u001B[39;49m\u001B[43mbackward\u001B[49m\u001B[43m(\u001B[49m\u001B[43mgrad_output\u001B[49m\u001B[43m)\u001B[49m\n\u001B[0;32m     20\u001B[0m \u001B[38;5;66;03m# update\u001B[39;00m\n\u001B[0;32m     21\u001B[0m \u001B[38;5;28;01mfor\u001B[39;00m layer \u001B[38;5;129;01min\u001B[39;00m [model\u001B[38;5;241m.\u001B[39mconv1, model\u001B[38;5;241m.\u001B[39mconv2, model\u001B[38;5;241m.\u001B[39mlinear1, model\u001B[38;5;241m.\u001B[39mlinear2, model\u001B[38;5;241m.\u001B[39mlinear3]:\n",
      "Cell \u001B[1;32mIn[225], line 38\u001B[0m, in \u001B[0;36mLeNet.backward\u001B[1;34m(self, grad_output)\u001B[0m\n\u001B[0;32m     36\u001B[0m grad_output \u001B[38;5;241m=\u001B[39m \u001B[38;5;28mself\u001B[39m\u001B[38;5;241m.\u001B[39mflatten\u001B[38;5;241m.\u001B[39mbackward(grad_output)\n\u001B[0;32m     37\u001B[0m grad_output \u001B[38;5;241m=\u001B[39m \u001B[38;5;28mself\u001B[39m\u001B[38;5;241m.\u001B[39mavgpool2\u001B[38;5;241m.\u001B[39mbackward(grad_output)\n\u001B[1;32m---> 38\u001B[0m grad_output \u001B[38;5;241m=\u001B[39m \u001B[38;5;28;43mself\u001B[39;49m\u001B[38;5;241;43m.\u001B[39;49m\u001B[43mconv2\u001B[49m\u001B[38;5;241;43m.\u001B[39;49m\u001B[43mbackward\u001B[49m\u001B[43m(\u001B[49m\u001B[43mgrad_output\u001B[49m\u001B[43m)\u001B[49m\n\u001B[0;32m     39\u001B[0m grad_output \u001B[38;5;241m=\u001B[39m \u001B[38;5;28mself\u001B[39m\u001B[38;5;241m.\u001B[39mavgpool1\u001B[38;5;241m.\u001B[39mbackward(grad_output)\n\u001B[0;32m     40\u001B[0m grad_output \u001B[38;5;241m=\u001B[39m \u001B[38;5;28mself\u001B[39m\u001B[38;5;241m.\u001B[39mconv1\u001B[38;5;241m.\u001B[39mbackward(grad_output)\n",
      "Cell \u001B[1;32mIn[220], line 38\u001B[0m, in \u001B[0;36mConvLayer.backward\u001B[1;34m(self, grad_output)\u001B[0m\n\u001B[0;32m     36\u001B[0m rotated_kernel \u001B[38;5;241m=\u001B[39m rot180(\u001B[38;5;28mself\u001B[39m\u001B[38;5;241m.\u001B[39mweights)\n\u001B[0;32m     37\u001B[0m rotated_kernel \u001B[38;5;241m=\u001B[39m np\u001B[38;5;241m.\u001B[39mtranspose(rotated_kernel, (\u001B[38;5;241m1\u001B[39m, \u001B[38;5;241m0\u001B[39m, \u001B[38;5;241m2\u001B[39m, \u001B[38;5;241m3\u001B[39m))\n\u001B[1;32m---> 38\u001B[0m grad_input \u001B[38;5;241m=\u001B[39m \u001B[43mfull_conv\u001B[49m\u001B[43m(\u001B[49m\u001B[43mrotated_kernel\u001B[49m\u001B[43m,\u001B[49m\u001B[43m \u001B[49m\u001B[43mgrad_output\u001B[49m\u001B[43m)\u001B[49m\n\u001B[0;32m     39\u001B[0m grad_input \u001B[38;5;241m=\u001B[39m np\u001B[38;5;241m.\u001B[39mtranspose(grad_input, (\u001B[38;5;241m1\u001B[39m, \u001B[38;5;241m0\u001B[39m, \u001B[38;5;241m2\u001B[39m, \u001B[38;5;241m3\u001B[39m))\n\u001B[0;32m     41\u001B[0m \u001B[38;5;66;03m# input: [B, IC, H, W] -> [IC, B, H, W]\u001B[39;00m\n\u001B[0;32m     42\u001B[0m \u001B[38;5;66;03m# grad_output: [B, OC, OH, OW] -> [OC, B, OH, OW]\u001B[39;00m\n\u001B[0;32m     43\u001B[0m \u001B[38;5;66;03m# grad_weights: [IC, OC, KS, KS] -> [OC, IC, KS, KS]\u001B[39;00m\n",
      "Cell \u001B[1;32mIn[219], line 51\u001B[0m, in \u001B[0;36mfull_conv\u001B[1;34m(input, kernel)\u001B[0m\n\u001B[0;32m     48\u001B[0m                 \u001B[38;5;28;01mif\u001B[39;00m right_padding \u001B[38;5;129;01mis\u001B[39;00m \u001B[38;5;129;01mnot\u001B[39;00m \u001B[38;5;28;01mNone\u001B[39;00m:\n\u001B[0;32m     49\u001B[0m                     receptive_field \u001B[38;5;241m=\u001B[39m np\u001B[38;5;241m.\u001B[39mpad(receptive_field, ((\u001B[38;5;241m0\u001B[39m, \u001B[38;5;241m0\u001B[39m), (\u001B[38;5;241m0\u001B[39m, \u001B[38;5;241m0\u001B[39m), (\u001B[38;5;241m0\u001B[39m, right_padding)), \u001B[38;5;124m'\u001B[39m\u001B[38;5;124mconstant\u001B[39m\u001B[38;5;124m'\u001B[39m)\n\u001B[1;32m---> 51\u001B[0m                 output[b, c, h_out, w_out] \u001B[38;5;241m=\u001B[39m \u001B[43mnp\u001B[49m\u001B[38;5;241;43m.\u001B[39;49m\u001B[43msum\u001B[49m\u001B[43m(\u001B[49m\u001B[43mreceptive_field\u001B[49m\u001B[43m \u001B[49m\u001B[38;5;241;43m*\u001B[39;49m\u001B[43m \u001B[49m\u001B[43mkernel\u001B[49m\u001B[43m[\u001B[49m\u001B[43mc\u001B[49m\u001B[43m]\u001B[49m\u001B[43m)\u001B[49m\n\u001B[0;32m     53\u001B[0m \u001B[38;5;28;01mreturn\u001B[39;00m output\n",
      "File \u001B[1;32m<__array_function__ internals>:177\u001B[0m, in \u001B[0;36msum\u001B[1;34m(*args, **kwargs)\u001B[0m\n",
      "\u001B[1;31mKeyboardInterrupt\u001B[0m: "
     ]
    }
   ],
   "source": [
    "epochs = 1\n",
    "\n",
    "train(lenet, train_images, train_labels, epochs, learning_rate, batch_size)"
   ],
   "metadata": {
    "collapsed": false,
    "ExecuteTime": {
     "end_time": "2023-05-24T03:24:42.362076300Z",
     "start_time": "2023-05-24T01:06:45.686877800Z"
    }
   }
  },
  {
   "cell_type": "code",
   "execution_count": 245,
   "outputs": [],
   "source": [
    "# 保存模型\n",
    "import pickle\n",
    "with open('lenet.pkl', 'wb') as f:\n",
    "    pickle.dump(lenet, f)"
   ],
   "metadata": {
    "collapsed": false,
    "ExecuteTime": {
     "end_time": "2023-05-24T03:31:51.884013900Z",
     "start_time": "2023-05-24T03:31:51.866547700Z"
    }
   }
  },
  {
   "cell_type": "code",
   "execution_count": 241,
   "outputs": [
    {
     "data": {
      "text/plain": "<Figure size 800x800 with 6 Axes>",
      "image/png": "[encoded data removed]"
     },
     "metadata": {},
     "output_type": "display_data"
    }
   ],
   "source": [
    "# 将lenet的卷积核可视化\n",
    "def visualize_kernels(model):\n",
    "    kernels = model.conv1.weights\n",
    "    fig = plt.figure(figsize=(8, 8))\n",
    "    for i in range(kernels.shape[0]):\n",
    "        ax = fig.add_subplot(4, 4, i + 1)\n",
    "        ax.imshow(kernels[i][0], cmap='gray')\n",
    "    plt.show()\n",
    "\n",
    "visualize_kernels(lenet)"
   ],
   "metadata": {
    "collapsed": false,
    "ExecuteTime": {
     "end_time": "2023-05-24T03:24:45.964517900Z",
     "start_time": "2023-05-24T03:24:45.357794400Z"
    }
   }
  },
  {
   "cell_type": "code",
   "execution_count": 244,
   "outputs": [
    {
     "data": {
      "text/plain": "<Figure size 800x800 with 9 Axes>",
      "image/png": "[encoded data removed]"
     },
     "metadata": {},
     "output_type": "display_data"
    }
   ],
   "source": [
    "# 随机从测试集中选择9张图片测试，以九宫格形式打印输出\n",
    "def visualize_results(model, test_images, test_labels):\n",
    "    fig = plt.figure(figsize=(8, 8))\n",
    "    for i in range(9):\n",
    "        index = np.random.randint(0, len(test_images))\n",
    "        image = test_images[index]\n",
    "        label = test_labels[index]\n",
    "        image = image.reshape(1, 1, 32, 32)\n",
    "        output = model.forward(image)\n",
    "        pred = np.argmax(output)\n",
    "        ax = fig.add_subplot(3, 3, i + 1)\n",
    "        plt.axis('off')\n",
    "        ax.imshow(image[0][0], cmap='gray')\n",
    "        ax.set_title(f'pred: {pred}, label: {np.argmax(label)}')\n",
    "    plt.show()\n",
    "\n",
    "visualize_results(lenet, test_images, test_labels)"
   ],
   "metadata": {
    "collapsed": false,
    "ExecuteTime": {
     "end_time": "2023-05-24T03:27:02.331135600Z",
     "start_time": "2023-05-24T03:27:00.871994600Z"
    }
   }
  },
  {
   "cell_type": "code",
   "execution_count": 238,
   "outputs": [
    {
     "name": "stdout",
     "output_type": "stream",
     "text": [
      "Test accuracy: 0.819\n"
     ]
    }
   ],
   "source": [
    "# test model\n",
    "test(lenet, test_images, test_labels)"
   ],
   "metadata": {
    "collapsed": false,
    "ExecuteTime": {
     "end_time": "2023-05-24T00:41:11.861783700Z",
     "start_time": "2023-05-24T00:33:50.925190200Z"
    }
   }
  }
 ],
 "metadata": {
  "kernelspec": {
   "display_name": "Python 3",
   "language": "python",
   "name": "python3"
  },
  "language_info": {
   "codemirror_mode": {
    "name": "ipython",
    "version": 2
   },
   "file_extension": ".py",
   "mimetype": "text/x-python",
   "name": "python",
   "nbconvert_exporter": "python",
   "pygments_lexer": "ipython2",
   "version": "2.7.6"
  }
 },
 "nbformat": 4,
 "nbformat_minor": 0
}
